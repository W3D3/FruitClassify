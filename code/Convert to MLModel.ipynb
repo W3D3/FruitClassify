{
 "cells": [
  {
   "cell_type": "code",
   "execution_count": 1,
   "metadata": {},
   "outputs": [
    {
     "name": "stderr",
     "output_type": "stream",
     "text": [
      "Using TensorFlow backend.\n"
     ]
    },
    {
     "name": "stdout",
     "output_type": "stream",
     "text": [
      "WARNING:tensorflow:From /Users/wedenigc/anaconda3/envs/ml/lib/python3.6/site-packages/tensorflow/python/framework/op_def_library.py:263: colocate_with (from tensorflow.python.framework.ops) is deprecated and will be removed in a future version.\n",
      "Instructions for updating:\n",
      "Colocations handled automatically by placer.\n",
      "WARNING:tensorflow:From /Users/wedenigc/anaconda3/envs/ml/lib/python3.6/site-packages/keras/backend/tensorflow_backend.py:3445: calling dropout (from tensorflow.python.ops.nn_ops) with keep_prob is deprecated and will be removed in a future version.\n",
      "Instructions for updating:\n",
      "Please use `rate` instead of `keep_prob`. Rate should be set to `rate = 1 - keep_prob`.\n"
     ]
    },
    {
     "name": "stderr",
     "output_type": "stream",
     "text": [
      "WARNING:root:TensorFlow version 1.13.1 detected. Last version known to be fully compatible is 1.12.0 .\n"
     ]
    },
    {
     "name": "stdout",
     "output_type": "stream",
     "text": [
      "Loaded model model_saved from disk\n",
      "0 : conv2d_1_input, <keras.engine.input_layer.InputLayer object at 0xb35f8f828>\n",
      "1 : conv2d_1, <keras.layers.convolutional.Conv2D object at 0xb35f8f7f0>\n",
      "2 : activation_1, <keras.layers.core.Activation object at 0xb35f8fc50>\n",
      "3 : max_pooling2d_1, <keras.layers.pooling.MaxPooling2D object at 0xb35f8fcc0>\n",
      "4 : conv2d_2, <keras.layers.convolutional.Conv2D object at 0xb35f8fe10>\n",
      "5 : conv2d_2__activation__, <keras.layers.core.Activation object at 0xb35f82d68>\n",
      "6 : max_pooling2d_2, <keras.layers.pooling.MaxPooling2D object at 0xb35fcbfd0>\n",
      "7 : conv2d_3, <keras.layers.convolutional.Conv2D object at 0xb35fab198>\n",
      "8 : conv2d_3__activation__, <keras.layers.core.Activation object at 0xb3646ee10>\n",
      "9 : max_pooling2d_3, <keras.layers.pooling.MaxPooling2D object at 0xb36002b70>\n",
      "10 : conv2d_4, <keras.layers.convolutional.Conv2D object at 0xb35fcbc18>\n",
      "11 : conv2d_4__activation__, <keras.layers.core.Activation object at 0xb35f82da0>\n",
      "12 : max_pooling2d_4, <keras.layers.pooling.MaxPooling2D object at 0xb36039668>\n",
      "13 : flatten_1, <keras.layers.core.Flatten object at 0xb36050cf8>\n",
      "14 : dense_1, <keras.layers.core.Dense object at 0xb36050be0>\n",
      "15 : activation_2, <keras.layers.core.Activation object at 0xb3608ee48>\n",
      "16 : dense_2, <keras.layers.core.Dense object at 0xb3608eb70>\n",
      "17 : dense_2__activation__, <keras.layers.core.Activation object at 0xb35f82d30>\n"
     ]
    }
   ],
   "source": [
    "# Load a Keras model\n",
    "from keras.models import model_from_json\n",
    "model_to_load = \"model_saved\"\n",
    "\n",
    "# load json and create model\n",
    "json_file = open(model_to_load + '.json', 'r')\n",
    "loaded_model_json = json_file.read()\n",
    "json_file.close()\n",
    "model = model_from_json(loaded_model_json)\n",
    "# load weights into new model\n",
    "model.load_weights(model_to_load + \".h5\")\n",
    "print(\"Loaded model\", model_to_load, \"from disk\")\n",
    "\n",
    "# Convert it with default input and output names\n",
    "import coremltools\n",
    "coreml_model = coremltools.converters.keras.convert(\n",
    "    tf_model_path=tf_model,\n",
    "    mlmodel_path=coreml_model,\n",
    "    input_name_shape_dict=input_shapes,\n",
    "    output_feature_names=output_layer,\n",
    "    image_input_names = ['Mul:0'],\n",
    "    class_labels = tf_labels,)\n",
    "\n",
    "\n",
    "# Saving the Core ML model to a file.\n",
    "coreml_model.save(model_to_load + '.mlmodel')"
   ]
  },
  {
   "cell_type": "code",
   "execution_count": null,
   "metadata": {},
   "outputs": [],
   "source": []
  }
 ],
 "metadata": {
  "kernelspec": {
   "display_name": "Python 2",
   "language": "python",
   "name": "python2"
  },
  "language_info": {
   "codemirror_mode": {
    "name": "ipython",
    "version": 2
   },
   "file_extension": ".py",
   "mimetype": "text/x-python",
   "name": "python",
   "nbconvert_exporter": "python",
   "pygments_lexer": "ipython2",
   "version": "2.7.16"
  }
 },
 "nbformat": 4,
 "nbformat_minor": 2
}
